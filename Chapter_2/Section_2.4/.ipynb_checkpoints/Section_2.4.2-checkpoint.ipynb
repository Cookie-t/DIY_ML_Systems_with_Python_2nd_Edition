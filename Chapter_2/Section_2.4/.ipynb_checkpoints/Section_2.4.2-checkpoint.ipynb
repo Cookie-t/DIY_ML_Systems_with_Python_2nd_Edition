{
 "cells": [
  {
   "cell_type": "code",
   "execution_count": 1,
   "metadata": {
    "collapsed": true
   },
   "outputs": [],
   "source": [
    "import gym\n",
    "import numpy as np\n",
    "import random"
   ]
  },
  {
   "cell_type": "code",
   "execution_count": 7,
   "metadata": {
    "collapsed": true
   },
   "outputs": [],
   "source": [
    "env = gym.make('Taxi-v2')\n",
    "#Initialize Q table with all zeros\n",
    "\n",
    "# Set learning parameters\n",
    "LEARNING_RATE = .1\n",
    "GAMMA = .95\n",
    "EPSILON = 0.3\n",
    "\n",
    "EPISODES = 10000\n",
    "STEPS = 100\n",
    "\n",
    "\n",
    "Q = np.zeros([env.observation_space.n,env.action_space.n])\n",
    "\n"
   ]
  },
  {
   "cell_type": "code",
   "execution_count": 8,
   "metadata": {},
   "outputs": [
    {
     "name": "stdout",
     "output_type": "stream",
     "text": [
      "-280\n",
      "-154\n",
      "-172\n",
      "-42\n",
      "2\n",
      "-111\n",
      "-16\n",
      "-44\n",
      "-25\n",
      "-12\n",
      "-22\n",
      "-23\n",
      "-21\n",
      "-4\n",
      "-16\n",
      "-10\n",
      "-18\n",
      "-10\n",
      "-12\n",
      "12\n",
      "-8\n",
      "-4\n",
      "2\n",
      "-2\n",
      "-49\n",
      "-31\n",
      "5\n",
      "-3\n",
      "5\n",
      "-18\n",
      "-49\n",
      "-27\n",
      "-55\n",
      "-16\n",
      "-4\n",
      "1\n",
      "5\n",
      "-37\n",
      "-7\n",
      "-28\n",
      "-5\n",
      "4\n",
      "-27\n",
      "11\n",
      "-15\n",
      "-8\n",
      "5\n",
      "-21\n",
      "-16\n",
      "-13\n"
     ]
    }
   ],
   "source": [
    "def epsilon_greedy_policy(state):\n",
    "    if random.uniform(0,1) < EPSILON:\n",
    "        action = env.action_space.sample()\n",
    "    else:\n",
    "        action = np.argmax(Q[state, :])\n",
    "    return action\n",
    "\n",
    "total_rewards = []\n",
    "\n",
    "for i in range(EPISODES):\n",
    "    state = env.reset()\n",
    "    episode_reward = 0\n",
    "    for _ in range(STEPS):\n",
    "        \n",
    "        action = epsilon_greedy_policy(state)\n",
    "        \n",
    "        new_state, reward, done, info = env.step(action)\n",
    "        \n",
    "        Q[state, action] = Q[state,action] + LEARNING_RATE*(reward + GAMMA * np.max(Q[new_state, :]) - Q[state, action])\n",
    "        \n",
    "        state = new_state\n",
    "        \n",
    "        episode_reward += reward\n",
    "        \n",
    "        if done:\n",
    "            break\n",
    "            \n",
    "    total_rewards.append(episode_reward)\n",
    "    if i % 200 == 0:\n",
    "        print episode_reward"
   ]
  },
  {
   "cell_type": "code",
   "execution_count": 9,
   "metadata": {},
   "outputs": [
    {
     "name": "stdout",
     "output_type": "stream",
     "text": [
      "[[  0.           0.           0.           0.           0.\n",
      "    0.        ]\n",
      " [243.47477564 254.67291903 242.67398144 254.69547535 273.29811794\n",
      "  246.32724442]\n",
      " [271.69175549 287.71531034 269.58755755 286.59563413 304.98346096\n",
      "  273.92962243]\n",
      " ...\n",
      " [300.96975667 322.08830323 302.63511629 279.07023789 289.68315117\n",
      "  289.82403085]\n",
      " [ 21.38612897  25.30627854  18.3276167  253.18528673  31.03447109\n",
      "   57.945376  ]\n",
      " [258.242662   279.50816651 174.65668134 378.97730412 134.85089485\n",
      "  222.19587742]]\n"
     ]
    }
   ],
   "source": [
    "print Q"
   ]
  },
  {
   "cell_type": "code",
   "execution_count": 10,
   "metadata": {},
   "outputs": [
    {
     "name": "stdout",
     "output_type": "stream",
     "text": [
      "10\n",
      "8\n",
      "11\n",
      "9\n",
      "10\n",
      "9\n",
      "10\n",
      "8\n",
      "7\n",
      "6\n",
      "12\n",
      "7\n",
      "5\n",
      "8\n",
      "11\n",
      "9\n",
      "7\n",
      "10\n",
      "8\n",
      "14\n",
      "14\n",
      "7\n",
      "8\n",
      "9\n",
      "9\n",
      "12\n",
      "5\n",
      "6\n",
      "7\n",
      "12\n",
      "11\n",
      "10\n",
      "6\n",
      "9\n",
      "6\n",
      "4\n",
      "8\n",
      "11\n",
      "9\n",
      "4\n",
      "13\n",
      "9\n",
      "12\n",
      "10\n",
      "13\n",
      "9\n",
      "9\n",
      "10\n",
      "11\n",
      "10\n"
     ]
    }
   ],
   "source": [
    "total_rewards = []\n",
    "\n",
    "for i in range(EPISODES):\n",
    "    state = env.reset()\n",
    "    episode_reward = 0\n",
    "    for _ in range(STEPS):\n",
    "        action = np.argmax(Q[state, :])\n",
    "        \n",
    "        new_state, reward, done, info = env.step(action)\n",
    "        \n",
    "        state = new_state\n",
    "        episode_reward += reward\n",
    "        \n",
    "        if done:\n",
    "            break\n",
    "            \n",
    "    total_rewards.append(episode_reward)\n",
    "    if i % 200 == 0:\n",
    "        print episode_reward"
   ]
  },
  {
   "cell_type": "code",
   "execution_count": null,
   "metadata": {
    "collapsed": true
   },
   "outputs": [],
   "source": []
  }
 ],
 "metadata": {
  "kernelspec": {
   "display_name": "Python 2",
   "language": "python",
   "name": "python2"
  },
  "language_info": {
   "codemirror_mode": {
    "name": "ipython",
    "version": 2
   },
   "file_extension": ".py",
   "mimetype": "text/x-python",
   "name": "python",
   "nbconvert_exporter": "python",
   "pygments_lexer": "ipython2",
   "version": "2.7.13"
  }
 },
 "nbformat": 4,
 "nbformat_minor": 2
}
