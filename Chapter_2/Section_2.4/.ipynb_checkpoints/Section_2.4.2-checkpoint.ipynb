{
 "cells": [
  {
   "cell_type": "code",
   "execution_count": 1,
   "metadata": {},
   "outputs": [
    {
     "name": "stdout",
     "output_type": "stream",
     "text": [
      "23.036634556067007 12.881722355726799 1.0 157.0\n"
     ]
    }
   ],
   "source": [
    "import gym\n",
    "import numpy as np\n",
    "\n",
    "bins_range = [(-2.4, 2.4), (-5.0, 5.0), (-0.42, 0.42), (-3.5, 3.5)]\n",
    "bins = [np.linspace(mn, mx, 100)[1:-1] for mn, mx in bins_range]\n",
    "\n",
    "from collections import defaultdict\n",
    "Q = defaultdict(float)\n",
    "\n",
    "def build_state(obs):\n",
    "    state = ''\n",
    "    for feature, _bin in zip(obs, bins):\n",
    "        state += str(np.digitize(feature, _bin))\n",
    "    return state\n",
    "\n",
    "\n",
    "def update_Q(s, r, a, s_next, done):\n",
    "    max_q_next = max([Q[s_next, i] for i in actions]) \n",
    "    # Do not include the next state's value if currently at the terminal state.\n",
    "    Q[s, a] += alpha * (r + gamma * max_q_next * (1.0 - done) - Q[s, a])\n",
    "    \n",
    "    \n",
    "\n",
    "def Q_policy(state):\n",
    "    if np.random.random() < epsilon:\n",
    "        return env.action_space.sample()\n",
    "    state = build_state(ob)\n",
    "    # Pick the action with highest q value.\n",
    "    qvals = {a: Q[state, a] for a in actions}\n",
    "    max_q = max(qvals.values())\n",
    "    # In case multiple actions have the same maximum q value.\n",
    "    actions_with_max_q = [a for a, q in qvals.items() if q == max_q]\n",
    "    return np.random.choice(actions_with_max_q)\n",
    "\n",
    "\n",
    "n_steps = 500\n",
    "episodes = 1000\n",
    "epsilon = 0.2  # 10% chances to apply a random action\n",
    "gamma = 0.95  # Discounting factor\n",
    "alpha = 0.01 # soft update param\n",
    "\n",
    "env = gym.make(\"CartPole-v0\")\n",
    "actions = range(2)\n",
    "ob = env.reset()\n",
    "rewards = []\n",
    "\n",
    "\n",
    "for episode in range(episodes):\n",
    "    reward = 0.0\n",
    "    for step in range(n_steps):\n",
    "        state = build_state(ob)\n",
    "        action = Q_policy(state)\n",
    "        ob_next, r, done, _ = env.step(action)\n",
    "        state_next = build_state(ob_next)\n",
    "        update_Q(state, r, action, state_next, done)\n",
    "        reward += r\n",
    "        if done:\n",
    "            rewards.append(reward)\n",
    "            reward = 0.0\n",
    "            ob = env.reset()\n",
    "        else:\n",
    "            ob = ob_next\n",
    "print np.mean(rewards), np.std(rewards), np.min(rewards), np.max(rewards)"
   ]
  },
  {
   "cell_type": "code",
   "execution_count": null,
   "metadata": {
    "collapsed": true
   },
   "outputs": [],
   "source": []
  }
 ],
 "metadata": {
  "kernelspec": {
   "display_name": "Python 2",
   "language": "python",
   "name": "python2"
  },
  "language_info": {
   "codemirror_mode": {
    "name": "ipython",
    "version": 2
   },
   "file_extension": ".py",
   "mimetype": "text/x-python",
   "name": "python",
   "nbconvert_exporter": "python",
   "pygments_lexer": "ipython2",
   "version": "2.7.13"
  }
 },
 "nbformat": 4,
 "nbformat_minor": 2
}
