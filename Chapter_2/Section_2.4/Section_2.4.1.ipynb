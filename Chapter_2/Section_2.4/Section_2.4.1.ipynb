{
 "cells": [
  {
   "cell_type": "code",
   "execution_count": 1,
   "metadata": {},
   "outputs": [],
   "source": [
    "import gym\n"
   ]
  },
  {
   "cell_type": "code",
   "execution_count": 6,
   "metadata": {},
   "outputs": [
    {
     "name": "stdout",
     "output_type": "stream",
     "text": [
      "35.0\n",
      "41.0\n",
      "53.0\n",
      "55.0\n",
      "25.0\n",
      "46.0\n",
      "38.0\n",
      "38.0\n",
      "45.0\n",
      "40.0\n",
      "[35.0, 41.0, 53.0, 55.0, 25.0, 46.0, 38.0, 38.0, 45.0, 40.0]\n"
     ]
    }
   ],
   "source": [
    "env = gym.make('CartPole-v0')\n",
    "\n",
    "\n",
    "def basic_policy(obs):\n",
    "    return 0 if obs[2] < 0 else 1\n",
    "\n",
    "\n",
    "totals = []\n",
    "\n",
    "for episode in range(10):\n",
    "    episode_reward = 0\n",
    "    obs = env.reset()\n",
    "    \n",
    "    for step in range(3000):\n",
    "        action = basic_policy(obs)\n",
    "        obs, reward, done, info = env.step(action)\n",
    "        \n",
    "        env.render()\n",
    "        episode_reward += reward\n",
    "        \n",
    "        if done:\n",
    "            print episode_reward\n",
    "            break\n",
    "    totals.append(episode_reward)\n",
    "env.close()\n",
    "print totals"
   ]
  },
  {
   "cell_type": "code",
   "execution_count": 7,
   "metadata": {},
   "outputs": [
    {
     "name": "stdout",
     "output_type": "stream",
     "text": [
      "[35.0, 41.0, 53.0, 55.0, 25.0, 46.0, 38.0, 38.0, 45.0, 40.0]\n"
     ]
    },
    {
     "data": {
      "text/plain": [
       "(41.6, 8.296987405076615, 25.0, 55.0)"
      ]
     },
     "execution_count": 7,
     "metadata": {},
     "output_type": "execute_result"
    }
   ],
   "source": [
    "import numpy as np\n",
    "print totals\n",
    "np.mean(totals), np.std(totals), np.min(totals), np.max(totals)"
   ]
  },
  {
   "cell_type": "code",
   "execution_count": null,
   "metadata": {},
   "outputs": [],
   "source": []
  }
 ],
 "metadata": {
  "kernelspec": {
   "display_name": "Python 2",
   "language": "python",
   "name": "python2"
  },
  "language_info": {
   "codemirror_mode": {
    "name": "ipython",
    "version": 2
   },
   "file_extension": ".py",
   "mimetype": "text/x-python",
   "name": "python",
   "nbconvert_exporter": "python",
   "pygments_lexer": "ipython2",
   "version": "2.7.15"
  }
 },
 "nbformat": 4,
 "nbformat_minor": 2
}
