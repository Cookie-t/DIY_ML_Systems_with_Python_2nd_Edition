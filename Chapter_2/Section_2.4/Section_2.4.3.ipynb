{
 "cells": [
  {
   "cell_type": "code",
   "execution_count": 1,
   "metadata": {
    "collapsed": true
   },
   "outputs": [],
   "source": [
    "import gym\n",
    "import numpy as np\n",
    "import random"
   ]
  },
  {
   "cell_type": "code",
   "execution_count": 2,
   "metadata": {
    "collapsed": true
   },
   "outputs": [],
   "source": [
    "env = gym.make('Taxi-v2')\n",
    "#Initialize Q table with all zeros\n",
    "\n",
    "# Set learning parameters\n",
    "LEARNING_RATE = .1\n",
    "GAMMA = .95\n",
    "EPSILON = 0.3\n",
    "\n",
    "EPISODES = 10000\n",
    "STEPS = 100\n",
    "\n",
    "\n",
    "Q = np.zeros([env.observation_space.n,env.action_space.n])\n",
    "\n"
   ]
  },
  {
   "cell_type": "code",
   "execution_count": 3,
   "metadata": {},
   "outputs": [
    {
     "name": "stdout",
     "output_type": "stream",
     "text": [
      "-298\n",
      "-226\n",
      "-208\n",
      "-208\n",
      "-50\n",
      "-145\n",
      "-39\n",
      "-154\n",
      "-39\n",
      "-190\n",
      "-11\n",
      "5\n",
      "7\n",
      "-31\n",
      "-9\n",
      "0\n",
      "-33\n",
      "-44\n",
      "-31\n",
      "-6\n",
      "-16\n",
      "-6\n",
      "-10\n",
      "-31\n",
      "7\n",
      "-54\n",
      "4\n",
      "-13\n",
      "-42\n",
      "-38\n",
      "-3\n",
      "-33\n",
      "-37\n",
      "-34\n",
      "-36\n",
      "-22\n",
      "0\n",
      "-18\n",
      "10\n",
      "11\n",
      "9\n",
      "9\n",
      "-42\n",
      "0\n",
      "-22\n",
      "-14\n",
      "-14\n",
      "3\n",
      "-43\n",
      "-53\n"
     ]
    }
   ],
   "source": [
    "def epsilon_greedy_policy(state):\n",
    "    if random.uniform(0,1) < EPSILON:\n",
    "        action = env.action_space.sample()\n",
    "    else:\n",
    "        action = np.argmax(Q[state, :])\n",
    "    return action\n",
    "\n",
    "total_rewards = []\n",
    "\n",
    "for i in range(EPISODES):\n",
    "    state = env.reset()\n",
    "    action = epsilon_greedy_policy(state)\n",
    "    \n",
    "    episode_reward = 0\n",
    "    \n",
    "    for _ in range(STEPS):\n",
    "        \n",
    "        new_state, reward, done, info = env.step(action)\n",
    "        new_action = epsilon_greedy_policy(new_state)\n",
    "        \n",
    "        Q[state, action] = Q[state,action] + LEARNING_RATE*(reward + GAMMA * Q[new_state, new_action] - Q[state, action])\n",
    "        \n",
    "        state = new_state\n",
    "        action = new_action\n",
    "        \n",
    "        episode_reward += reward\n",
    "        \n",
    "        if done:\n",
    "            break\n",
    "            \n",
    "    total_rewards.append(episode_reward)\n",
    "    if i % 200 == 0:\n",
    "        print episode_reward"
   ]
  },
  {
   "cell_type": "code",
   "execution_count": 4,
   "metadata": {},
   "outputs": [
    {
     "name": "stdout",
     "output_type": "stream",
     "text": [
      "[[  0.           0.           0.           0.           0.\n",
      "    0.        ]\n",
      " [ 43.81971416  74.34489231  38.05419803  58.37119326  93.58355659\n",
      "   51.10870135]\n",
      " [ 81.05170766  97.83919683  83.84049941 103.41590487 132.34258092\n",
      "   97.90924534]\n",
      " ...\n",
      " [ 30.29991325 141.31276088  27.52356969  20.80151473  36.13357457\n",
      "   22.49407264]\n",
      " [  1.86895303   5.81404566  -3.98227425  60.42935612   1.27362962\n",
      "   -1.83705662]\n",
      " [ 90.71073054  40.92385514  68.91088956 193.1279046   62.99342719\n",
      "   62.89465041]]\n"
     ]
    }
   ],
   "source": [
    "print Q"
   ]
  },
  {
   "cell_type": "code",
   "execution_count": 5,
   "metadata": {},
   "outputs": [
    {
     "name": "stdout",
     "output_type": "stream",
     "text": [
      "10\n",
      "6\n",
      "10\n",
      "12\n",
      "7\n",
      "10\n",
      "9\n",
      "11\n",
      "7\n",
      "11\n",
      "10\n",
      "13\n",
      "10\n",
      "6\n",
      "8\n",
      "8\n",
      "3\n",
      "9\n",
      "11\n",
      "9\n",
      "10\n",
      "9\n",
      "6\n",
      "11\n",
      "15\n",
      "8\n",
      "4\n",
      "10\n",
      "14\n",
      "8\n",
      "11\n",
      "7\n",
      "9\n",
      "11\n",
      "4\n",
      "11\n",
      "6\n",
      "5\n",
      "7\n",
      "7\n",
      "7\n",
      "7\n",
      "14\n",
      "5\n",
      "12\n",
      "6\n",
      "4\n",
      "6\n",
      "9\n",
      "6\n"
     ]
    }
   ],
   "source": [
    "total_rewards = []\n",
    "\n",
    "for i in range(EPISODES):\n",
    "    state = env.reset()\n",
    "    episode_reward = 0\n",
    "    for _ in range(STEPS):\n",
    "        action = np.argmax(Q[state, :])\n",
    "        \n",
    "        new_state, reward, done, info = env.step(action)\n",
    "        \n",
    "        state = new_state\n",
    "        episode_reward += reward\n",
    "        \n",
    "        if done:\n",
    "            break\n",
    "            \n",
    "    total_rewards.append(episode_reward)\n",
    "    if i % 200 == 0:\n",
    "        print episode_reward"
   ]
  },
  {
   "cell_type": "code",
   "execution_count": null,
   "metadata": {
    "collapsed": true
   },
   "outputs": [],
   "source": []
  }
 ],
 "metadata": {
  "kernelspec": {
   "display_name": "Python 2",
   "language": "python",
   "name": "python2"
  },
  "language_info": {
   "codemirror_mode": {
    "name": "ipython",
    "version": 2
   },
   "file_extension": ".py",
   "mimetype": "text/x-python",
   "name": "python",
   "nbconvert_exporter": "python",
   "pygments_lexer": "ipython2",
   "version": "2.7.13"
  }
 },
 "nbformat": 4,
 "nbformat_minor": 2
}
