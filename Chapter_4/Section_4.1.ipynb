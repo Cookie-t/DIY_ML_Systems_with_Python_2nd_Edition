{
 "cells": [
  {
   "cell_type": "code",
   "execution_count": 1,
   "metadata": {
    "collapsed": true
   },
   "outputs": [],
   "source": [
    "import numpy as np"
   ]
  },
  {
   "cell_type": "code",
   "execution_count": 4,
   "metadata": {
    "collapsed": true
   },
   "outputs": [],
   "source": [
    "x = np.linspace(0.01, 0.99, 100)"
   ]
  },
  {
   "cell_type": "code",
   "execution_count": 5,
   "metadata": {},
   "outputs": [
    {
     "data": {
      "text/plain": [
       "array([0.01      , 0.01989899, 0.02979798, 0.03969697, 0.04959596,\n",
       "       0.05949495, 0.06939394, 0.07929293, 0.08919192, 0.09909091,\n",
       "       0.1089899 , 0.11888889, 0.12878788, 0.13868687, 0.14858586,\n",
       "       0.15848485, 0.16838384, 0.17828283, 0.18818182, 0.19808081,\n",
       "       0.2079798 , 0.21787879, 0.22777778, 0.23767677, 0.24757576,\n",
       "       0.25747475, 0.26737374, 0.27727273, 0.28717172, 0.29707071,\n",
       "       0.3069697 , 0.31686869, 0.32676768, 0.33666667, 0.34656566,\n",
       "       0.35646465, 0.36636364, 0.37626263, 0.38616162, 0.39606061,\n",
       "       0.4059596 , 0.41585859, 0.42575758, 0.43565657, 0.44555556,\n",
       "       0.45545455, 0.46535354, 0.47525253, 0.48515152, 0.49505051,\n",
       "       0.50494949, 0.51484848, 0.52474747, 0.53464646, 0.54454545,\n",
       "       0.55444444, 0.56434343, 0.57424242, 0.58414141, 0.5940404 ,\n",
       "       0.60393939, 0.61383838, 0.62373737, 0.63363636, 0.64353535,\n",
       "       0.65343434, 0.66333333, 0.67323232, 0.68313131, 0.6930303 ,\n",
       "       0.70292929, 0.71282828, 0.72272727, 0.73262626, 0.74252525,\n",
       "       0.75242424, 0.76232323, 0.77222222, 0.78212121, 0.7920202 ,\n",
       "       0.80191919, 0.81181818, 0.82171717, 0.83161616, 0.84151515,\n",
       "       0.85141414, 0.86131313, 0.87121212, 0.88111111, 0.8910101 ,\n",
       "       0.90090909, 0.91080808, 0.92070707, 0.93060606, 0.94050505,\n",
       "       0.95040404, 0.96030303, 0.97020202, 0.98010101, 0.99      ])"
      ]
     },
     "execution_count": 5,
     "metadata": {},
     "output_type": "execute_result"
    }
   ],
   "source": [
    "x"
   ]
  },
  {
   "cell_type": "code",
   "execution_count": 7,
   "metadata": {},
   "outputs": [],
   "source": [
    "y = -x * np.log2(x) - (1.0-x) * np.log2(1.0-x)"
   ]
  },
  {
   "cell_type": "code",
   "execution_count": 8,
   "metadata": {},
   "outputs": [
    {
     "data": {
      "text/plain": [
       "array([0.08079314, 0.14087302, 0.19337772, 0.24090108, 0.28467814,\n",
       "       0.32543679, 0.36365787, 0.39968287, 0.43376678, 0.4661072 ,\n",
       "       0.49686165, 0.52615855, 0.55410454, 0.58078948, 0.60629007,\n",
       "       0.63067248, 0.6539943 , 0.67630607, 0.69765243, 0.71807307,\n",
       "       0.73760341, 0.75627527, 0.77411731, 0.79115543, 0.80741313,\n",
       "       0.82291177, 0.83767082, 0.85170804, 0.86503969, 0.87768062,\n",
       "       0.88964447, 0.90094371, 0.91158978, 0.92159316, 0.93096344,\n",
       "       0.93970939, 0.94783902, 0.95535961, 0.96227778, 0.9685995 ,\n",
       "       0.97433016, 0.97947455, 0.98403695, 0.98802107, 0.99143015,\n",
       "       0.99426693, 0.99653367, 0.99823216, 0.99936374, 0.99992931,\n",
       "       0.99992931, 0.99936374, 0.99823216, 0.99653367, 0.99426693,\n",
       "       0.99143015, 0.98802107, 0.98403695, 0.97947455, 0.97433016,\n",
       "       0.9685995 , 0.96227778, 0.95535961, 0.94783902, 0.93970939,\n",
       "       0.93096344, 0.92159316, 0.91158978, 0.90094371, 0.88964447,\n",
       "       0.87768062, 0.86503969, 0.85170804, 0.83767082, 0.82291177,\n",
       "       0.80741313, 0.79115543, 0.77411731, 0.75627527, 0.73760341,\n",
       "       0.71807307, 0.69765243, 0.67630607, 0.6539943 , 0.63067248,\n",
       "       0.60629007, 0.58078948, 0.55410454, 0.52615855, 0.49686165,\n",
       "       0.4661072 , 0.43376678, 0.39968287, 0.36365787, 0.32543679,\n",
       "       0.28467814, 0.24090108, 0.19337772, 0.14087302, 0.08079314])"
      ]
     },
     "execution_count": 8,
     "metadata": {},
     "output_type": "execute_result"
    }
   ],
   "source": [
    "y "
   ]
  },
  {
   "cell_type": "code",
   "execution_count": 10,
   "metadata": {},
   "outputs": [
    {
     "data": {
      "image/png": "[encoded data removed]",
      "text/plain": [
       "<Figure size 432x288 with 1 Axes>"
      ]
     },
     "metadata": {},
     "output_type": "display_data"
    }
   ],
   "source": [
    "from matplotlib import pyplot as plt\n",
    "plt.plot(x, y)\n",
    "plt.show()"
   ]
  },
  {
   "cell_type": "code",
   "execution_count": null,
   "metadata": {
    "collapsed": true
   },
   "outputs": [],
   "source": []
  }
 ],
 "metadata": {
  "kernelspec": {
   "display_name": "Python 2",
   "language": "python",
   "name": "python2"
  },
  "language_info": {
   "codemirror_mode": {
    "name": "ipython",
    "version": 2
   },
   "file_extension": ".py",
   "mimetype": "text/x-python",
   "name": "python",
   "nbconvert_exporter": "python",
   "pygments_lexer": "ipython2",
   "version": "2.7.15"
  }
 },
 "nbformat": 4,
 "nbformat_minor": 2
}
