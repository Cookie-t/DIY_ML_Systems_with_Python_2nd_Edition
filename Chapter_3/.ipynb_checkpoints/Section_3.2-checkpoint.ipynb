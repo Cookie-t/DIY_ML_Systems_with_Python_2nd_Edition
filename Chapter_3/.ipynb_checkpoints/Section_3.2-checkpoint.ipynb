{
 "cells": [
  {
   "cell_type": "code",
   "execution_count": 1,
   "metadata": {},
   "outputs": [
    {
     "name": "stdout",
     "output_type": "stream",
     "text": [
      "Iteration 1, loss = 2.43867111\n",
      "Iteration 2, loss = 2.30663061\n",
      "Iteration 3, loss = 2.30365486\n",
      "Iteration 4, loss = 2.30291361\n",
      "Iteration 5, loss = 2.30277270\n",
      "Iteration 6, loss = 2.30274857\n",
      "Iteration 7, loss = 2.30273578\n",
      "Iteration 8, loss = 2.30274864\n",
      "Iteration 9, loss = 2.30274620\n",
      "Iteration 10, loss = 2.30273692\n",
      "Iteration 11, loss = 2.30274741\n",
      "Iteration 12, loss = 2.30274848\n",
      "Iteration 13, loss = 2.30274410\n",
      "Iteration 14, loss = 2.30275674\n",
      "Iteration 15, loss = 2.30275211\n",
      "Iteration 16, loss = 2.30275476\n",
      "Training loss did not improve more than tol=0.000100 for 10 consecutive epochs. Stopping.\n",
      "分类准确率为：0.100000\n"
     ]
    }
   ],
   "source": [
    "'''\n",
    "这个案例是使用sklearn内置的多层神经网络，进行时装图像的分类；图像的特征没有进行标准化处理。\n",
    "'''\n",
    "import pandas as pd\n",
    "import numpy as np\n",
    "from sklearn.preprocessing import StandardScaler\n",
    "from sklearn.neural_network import MLPClassifier\n",
    "from sklearn.metrics import accuracy_score\n",
    "\n",
    "\n",
    "train = pd.read_csv('datasets/fashionmnist/fashion-mnist_train.csv')\n",
    "test = pd.read_csv('datasets/fashionmnist/fashion-mnist_test.csv')\n",
    "\n",
    "# 图像的特征没有进行标准化处理。\n",
    "y_train = train['label']\n",
    "y_test = test['label']\n",
    "X_train = train.drop('label', axis=1)\n",
    "X_test = test.drop('label', axis=1)\n",
    "\n",
    "mlpc = MLPClassifier(hidden_layer_sizes=(300, 10), verbose=True, max_iter=30, activation='relu', momentum=0.9, batch_size=256)\n",
    "mlpc.fit(X_train, y_train)\n",
    "\n",
    "y_pred = mlpc.predict(X_test)\n",
    "\n",
    "print '分类准确率为：%f' % accuracy_score(y_test, y_pred)"
   ]
  },
  {
   "cell_type": "code",
   "execution_count": 2,
   "metadata": {
    "collapsed": true
   },
   "outputs": [],
   "source": [
    "######################################"
   ]
  },
  {
   "cell_type": "code",
   "execution_count": 3,
   "metadata": {},
   "outputs": [
    {
     "name": "stderr",
     "output_type": "stream",
     "text": [
      "/Users/michael/anaconda/lib/python2.7/site-packages/sklearn/preprocessing/data.py:617: DataConversionWarning: Data with input dtype int64 were all converted to float64 by StandardScaler.\n",
      "  return self.partial_fit(X, y)\n",
      "/Users/michael/anaconda/lib/python2.7/site-packages/sklearn/base.py:462: DataConversionWarning: Data with input dtype int64 were all converted to float64 by StandardScaler.\n",
      "  return self.fit(X, **fit_params).transform(X)\n",
      "/Users/michael/anaconda/lib/python2.7/site-packages/ipykernel_launcher.py:22: DataConversionWarning: Data with input dtype int64 were all converted to float64 by StandardScaler.\n"
     ]
    },
    {
     "name": "stdout",
     "output_type": "stream",
     "text": [
      "Iteration 1, loss = 0.73977754\n",
      "Iteration 2, loss = 0.36777989\n",
      "Iteration 3, loss = 0.31517672\n",
      "Iteration 4, loss = 0.28239481\n",
      "Iteration 5, loss = 0.25851266\n",
      "Iteration 6, loss = 0.23737685\n",
      "Iteration 7, loss = 0.22072173\n",
      "Iteration 8, loss = 0.20761597\n",
      "Iteration 9, loss = 0.19415429\n",
      "Iteration 10, loss = 0.18397640\n",
      "Iteration 11, loss = 0.17154493\n",
      "Iteration 12, loss = 0.16021465\n",
      "Iteration 13, loss = 0.14934598\n",
      "Iteration 14, loss = 0.14114469\n",
      "Iteration 15, loss = 0.13353964\n",
      "Iteration 16, loss = 0.12601805\n",
      "Iteration 17, loss = 0.12111163\n",
      "Iteration 18, loss = 0.10864291\n",
      "Iteration 19, loss = 0.10664644\n",
      "Iteration 20, loss = 0.10199476\n",
      "Iteration 21, loss = 0.09662470\n",
      "Iteration 22, loss = 0.08964655\n",
      "Iteration 23, loss = 0.08452213\n",
      "Iteration 24, loss = 0.07918417\n",
      "Iteration 25, loss = 0.08039144\n",
      "Iteration 26, loss = 0.07060659\n",
      "Iteration 27, loss = 0.06502144\n",
      "Iteration 28, loss = 0.06163439\n",
      "Iteration 29, loss = 0.06125994\n",
      "Iteration 30, loss = 0.06180948\n"
     ]
    },
    {
     "name": "stderr",
     "output_type": "stream",
     "text": [
      "/Users/michael/anaconda/lib/python2.7/site-packages/sklearn/neural_network/multilayer_perceptron.py:562: ConvergenceWarning: Stochastic Optimizer: Maximum iterations (30) reached and the optimization hasn't converged yet.\n",
      "  % self.max_iter, ConvergenceWarning)\n"
     ]
    },
    {
     "name": "stdout",
     "output_type": "stream",
     "text": [
      "分类准确率为：0.895300\n"
     ]
    }
   ],
   "source": [
    "'''\n",
    "这个案例是使用sklearn内置的多层神经网络，进行时装图像的分类；图像的特征进行了标准化处理。\n",
    "'''\n",
    "import pandas as pd\n",
    "import numpy as np\n",
    "from sklearn.preprocessing import StandardScaler\n",
    "from sklearn.neural_network import MLPClassifier\n",
    "from sklearn.metrics import accuracy_score\n",
    "\n",
    "\n",
    "train = pd.read_csv('datasets/fashionmnist/fashion-mnist_train.csv')\n",
    "test = pd.read_csv('datasets/fashionmnist/fashion-mnist_test.csv')\n",
    "\n",
    "y_train = train['label']\n",
    "y_test = test['label']\n",
    "X_train = train.drop('label', axis=1)\n",
    "X_test = test.drop('label', axis=1)\n",
    "\n",
    "#这里对图像的特征进行标准化处理；尽量保证特征均值为0，方差为1。\n",
    "ss = StandardScaler()\n",
    "X_train = ss.fit_transform(X_train)\n",
    "X_test = ss.transform(X_test)\n",
    "\n",
    "mlpc = MLPClassifier(hidden_layer_sizes=(300, 10), verbose=True, max_iter=30, activation='relu', momentum=0.9, batch_size=256)\n",
    "mlpc.fit(X_train, y_train)\n",
    "\n",
    "y_pred = mlpc.predict(X_test)\n",
    "\n",
    "print '分类准确率为：%f' % accuracy_score(y_test, y_pred)"
   ]
  },
  {
   "cell_type": "code",
   "execution_count": 4,
   "metadata": {
    "collapsed": true
   },
   "outputs": [],
   "source": [
    "##############################"
   ]
  },
  {
   "cell_type": "code",
   "execution_count": 5,
   "metadata": {},
   "outputs": [
    {
     "name": "stderr",
     "output_type": "stream",
     "text": [
      "/Users/michael/anaconda/lib/python2.7/site-packages/h5py/__init__.py:34: FutureWarning: Conversion of the second argument of issubdtype from `float` to `np.floating` is deprecated. In future, it will be treated as `np.float64 == np.dtype(float).type`.\n",
      "  from ._conv import register_converters as _register_converters\n",
      "/Users/michael/anaconda/lib/python2.7/site-packages/ipykernel_launcher.py:39: DataConversionWarning: Data with input dtype int64 were all converted to float64 by StandardScaler.\n"
     ]
    },
    {
     "name": "stdout",
     "output_type": "stream",
     "text": [
      "Iteration 1, loss = 0.581834\n",
      "Iteration 2, loss = 0.498901\n",
      "Iteration 3, loss = 0.459009\n",
      "Iteration 4, loss = 0.436734\n",
      "Iteration 5, loss = 0.415480\n",
      "Iteration 6, loss = 0.401327\n",
      "Iteration 7, loss = 0.389875\n",
      "Iteration 8, loss = 0.380933\n",
      "Iteration 9, loss = 0.370820\n",
      "Iteration 10, loss = 0.363992\n",
      "Iteration 11, loss = 0.357049\n",
      "Iteration 12, loss = 0.350702\n",
      "Iteration 13, loss = 0.345306\n",
      "Iteration 14, loss = 0.339686\n",
      "Iteration 15, loss = 0.334749\n",
      "Iteration 16, loss = 0.330025\n",
      "Iteration 17, loss = 0.326163\n",
      "Iteration 18, loss = 0.322593\n",
      "Iteration 19, loss = 0.318203\n",
      "Iteration 20, loss = 0.314475\n",
      "Iteration 21, loss = 0.311263\n",
      "Iteration 22, loss = 0.308934\n",
      "Iteration 23, loss = 0.304769\n",
      "Iteration 24, loss = 0.301383\n",
      "Iteration 25, loss = 0.298638\n",
      "Iteration 26, loss = 0.295660\n",
      "Iteration 27, loss = 0.292682\n",
      "Iteration 28, loss = 0.290591\n",
      "Iteration 29, loss = 0.288793\n",
      "Iteration 30, loss = 0.285358\n",
      "分类准确率为：0.874400\n"
     ]
    }
   ],
   "source": [
    "'''\n",
    "采用TensorFlow，自行手动构建一个前馈神经网络层模块，进行时装图像的分类。\n",
    "'''\n",
    "import tensorflow as tf\n",
    "        \n",
    "\n",
    "#自行手动构建一个前馈神经网络层模块。\n",
    "def ffn_layer(X, n_outputs, name, activation=None):\n",
    "    with tf.name_scope(name):\n",
    "        n_inputs = int(X.get_shape()[1])\n",
    "        stddev = 2.0 / np.sqrt(n_inputs + n_outputs)\n",
    "        init = tf.truncated_normal((n_inputs, n_outputs), stddev=stddev)\n",
    "        W = tf.Variable(init, name='weights')\n",
    "        b = tf.Variable(tf.zeros([n_outputs]), name='bias')\n",
    "        \n",
    "        V = tf.matmul(X, W) + b\n",
    "        \n",
    "        if activation:\n",
    "            return activation(V)\n",
    "        else:\n",
    "            return V\n",
    "        \n",
    "import pandas as pd\n",
    "import numpy as np\n",
    "from sklearn.preprocessing import StandardScaler\n",
    "from sklearn.metrics import accuracy_score\n",
    "\n",
    "train = pd.read_csv('datasets/fashionmnist/fashion-mnist_train.csv')\n",
    "test = pd.read_csv('datasets/fashionmnist/fashion-mnist_test.csv')\n",
    "\n",
    "y_train = train['label'].values\n",
    "y_test = test['label'].values\n",
    "\n",
    "X_train = train.drop('label', axis=1)\n",
    "X_test = test.drop('label', axis=1)\n",
    "\n",
    "ss = StandardScaler()\n",
    "X_train = ss.fit_transform(X_train)\n",
    "X_test = ss.transform(X_test)\n",
    "\n",
    "train_samples, n_features = np.shape(X_train)\n",
    "test_samples = len(X_test)\n",
    "\n",
    "n_inputs = n_features\n",
    "n_hidden = 300\n",
    "n_outputs = 10\n",
    "batch_size = 256\n",
    "n_batches = train_samples / batch_size\n",
    "n_epochs = 30\n",
    "\n",
    "X = tf.placeholder(tf.float32, shape=(None, n_inputs), name='X')\n",
    "y = tf.placeholder(tf.int32, shape=(None), name='y')\n",
    "\n",
    "hidden = ffn_layer(X, n_hidden, name='hidden', activation=tf.nn.relu)\n",
    "logits = ffn_layer(hidden, n_outputs, name='outputs')\n",
    "\n",
    "xentropy = tf.nn.sparse_softmax_cross_entropy_with_logits(labels=y, logits=logits)\n",
    "\n",
    "loss = tf.reduce_mean(xentropy, name='loss')\n",
    "\n",
    "learning_rate = 1e-3\n",
    "\n",
    "optimizer = tf.train.MomentumOptimizer(learning_rate=learning_rate, momentum=0.9)\n",
    "\n",
    "training_op = optimizer.minimize(loss)\n",
    "\n",
    "correct = tf.nn.in_top_k(logits, y, 1)\n",
    "\n",
    "accuracy = tf.reduce_mean(tf.cast(correct, tf.float32))\n",
    "\n",
    "init = tf.global_variables_initializer()\n",
    "\n",
    "with tf.Session() as sess:\n",
    "    init.run()\n",
    "    \n",
    "    for iteration in range(n_epochs):\n",
    "        for i in range(n_batches):\n",
    "            np.random.seed(iteration * n_batches + i)\n",
    "            indices = np.random.randint(train_samples, size=batch_size)\n",
    "            X_batch = X_train[indices]\n",
    "            y_batch = y_train[indices]\n",
    "            sess.run(training_op, feed_dict={X: X_batch, y: y_batch})\n",
    "        print 'Iteration %d, loss = %f' % (iteration + 1, loss.eval(feed_dict = {X: X_train, y: y_train}))\n",
    "    print '分类准确率为：%f' % accuracy.eval(feed_dict = {X: X_test, y: y_test})"
   ]
  },
  {
   "cell_type": "code",
   "execution_count": 6,
   "metadata": {
    "collapsed": true
   },
   "outputs": [],
   "source": [
    "##############################"
   ]
  },
  {
   "cell_type": "code",
   "execution_count": 7,
   "metadata": {},
   "outputs": [
    {
     "name": "stderr",
     "output_type": "stream",
     "text": [
      "/Users/michael/anaconda/lib/python2.7/site-packages/ipykernel_launcher.py:20: DataConversionWarning: Data with input dtype int64 were all converted to float64 by StandardScaler.\n"
     ]
    },
    {
     "name": "stdout",
     "output_type": "stream",
     "text": [
      "Iteration 1, loss = 0.588499\n",
      "Iteration 2, loss = 0.503211\n",
      "Iteration 3, loss = 0.462920\n",
      "Iteration 4, loss = 0.438767\n",
      "Iteration 5, loss = 0.418862\n",
      "Iteration 6, loss = 0.404679\n",
      "Iteration 7, loss = 0.393283\n",
      "Iteration 8, loss = 0.384363\n",
      "Iteration 9, loss = 0.374392\n",
      "Iteration 10, loss = 0.367199\n",
      "Iteration 11, loss = 0.360662\n",
      "Iteration 12, loss = 0.354541\n",
      "Iteration 13, loss = 0.349302\n",
      "Iteration 14, loss = 0.343849\n",
      "Iteration 15, loss = 0.339000\n",
      "Iteration 16, loss = 0.334414\n",
      "Iteration 17, loss = 0.330263\n",
      "Iteration 18, loss = 0.326614\n",
      "Iteration 19, loss = 0.322534\n",
      "Iteration 20, loss = 0.319146\n",
      "Iteration 21, loss = 0.315892\n",
      "Iteration 22, loss = 0.313013\n",
      "Iteration 23, loss = 0.309285\n",
      "Iteration 24, loss = 0.305869\n",
      "Iteration 25, loss = 0.303297\n",
      "Iteration 26, loss = 0.300138\n",
      "Iteration 27, loss = 0.297295\n",
      "Iteration 28, loss = 0.294841\n",
      "Iteration 29, loss = 0.292421\n",
      "Iteration 30, loss = 0.289865\n",
      "分类准确率为：0.881400\n"
     ]
    }
   ],
   "source": [
    "'''\n",
    "采用TensorFlow内置的前馈神经网络模块，自行手动构建一个前馈神经网络层模块，进行时装图像的分类。\n",
    "'''\n",
    "import pandas as pd\n",
    "import numpy as np\n",
    "from sklearn.preprocessing import StandardScaler\n",
    "from sklearn.metrics import accuracy_score\n",
    "\n",
    "train = pd.read_csv('datasets/fashionmnist/fashion-mnist_train.csv')\n",
    "test = pd.read_csv('datasets/fashionmnist/fashion-mnist_test.csv')\n",
    "\n",
    "y_train = train['label'].values\n",
    "y_test = test['label'].values\n",
    "\n",
    "X_train = train.drop('label', axis=1)\n",
    "X_test = test.drop('label', axis=1)\n",
    "\n",
    "ss = StandardScaler()\n",
    "X_train = ss.fit_transform(X_train)\n",
    "X_test = ss.transform(X_test)\n",
    "\n",
    "train_samples, n_features = np.shape(X_train)\n",
    "test_samples = len(X_test)\n",
    "\n",
    "import tensorflow as tf\n",
    "        \n",
    "n_inputs = n_features\n",
    "n_hidden = 300\n",
    "n_outputs = 10\n",
    "batch_size = 256\n",
    "n_batches = train_samples / batch_size\n",
    "n_epochs = 30\n",
    "\n",
    "\n",
    "X = tf.placeholder(tf.float32, shape=(None, n_inputs), name='X')\n",
    "y = tf.placeholder(tf.int32, shape=(None), name='y')\n",
    "\n",
    "#采用TensorFlow内置的前馈神经网络模块，搭建网络。\n",
    "hidden = tf.layers.dense(X, n_hidden, name='hidden', activation=tf.nn.relu)\n",
    "logits = tf.layers.dense(hidden, n_outputs, name='outputs')\n",
    "\n",
    "xentropy = tf.nn.sparse_softmax_cross_entropy_with_logits(labels=y, logits=logits)\n",
    "\n",
    "loss = tf.reduce_mean(xentropy, name='loss')\n",
    "\n",
    "learning_rate = 1e-3\n",
    "\n",
    "optimizer = tf.train.MomentumOptimizer(learning_rate=learning_rate, momentum=0.9)\n",
    "\n",
    "training_op = optimizer.minimize(loss)\n",
    "\n",
    "correct = tf.nn.in_top_k(logits, y, 1)\n",
    "\n",
    "accuracy = tf.reduce_mean(tf.cast(correct, tf.float32))\n",
    "\n",
    "init = tf.global_variables_initializer()\n",
    "\n",
    "saver = tf.train.Saver()\n",
    "\n",
    "with tf.Session() as sess:\n",
    "    init.run()\n",
    "    \n",
    "    for iteration in range(n_epochs):\n",
    "        for i in range(n_batches):\n",
    "            np.random.seed(iteration * n_batches + i)\n",
    "            indices = np.random.randint(train_samples, size=batch_size)\n",
    "            X_batch = X_train[indices]\n",
    "            y_batch = y_train[indices]\n",
    "            sess.run(training_op, feed_dict={X: X_batch, y: y_batch})\n",
    "        print 'Iteration %d, loss = %f' % (iteration + 1, loss.eval(feed_dict = {X: X_train, y: y_train}))\n",
    "    \n",
    "    saver.save(sess, 'models/section_3.2/my_final_model.ckpt')\n",
    "    \n",
    "    print '分类准确率为：%f' % accuracy.eval(feed_dict = {X: X_test, y: y_test})\n",
    "    "
   ]
  },
  {
   "cell_type": "code",
   "execution_count": 8,
   "metadata": {},
   "outputs": [
    {
     "name": "stdout",
     "output_type": "stream",
     "text": [
      "INFO:tensorflow:Restoring parameters from models/section_3.2/my_final_model.ckpt\n"
     ]
    },
    {
     "name": "stderr",
     "output_type": "stream",
     "text": [
      "/Users/michael/anaconda/lib/python2.7/site-packages/ipykernel_launcher.py:20: DataConversionWarning: Data with input dtype int64 were all converted to float64 by StandardScaler.\n"
     ]
    },
    {
     "name": "stdout",
     "output_type": "stream",
     "text": [
      "分类准确率为：0.881400\n"
     ]
    }
   ],
   "source": [
    "'''\n",
    "采用TensorFlow内置的模型存储功能，复用之前训练好的神经网络结构和参数。\n",
    "'''\n",
    "import pandas as pd\n",
    "import numpy as np\n",
    "from sklearn.preprocessing import StandardScaler\n",
    "from sklearn.metrics import accuracy_score\n",
    "\n",
    "train = pd.read_csv('datasets/fashionmnist/fashion-mnist_train.csv')\n",
    "test = pd.read_csv('datasets/fashionmnist/fashion-mnist_test.csv')\n",
    "\n",
    "y_train = train['label'].values\n",
    "y_test = test['label'].values\n",
    "\n",
    "X_train = train.drop('label', axis=1)\n",
    "X_test = test.drop('label', axis=1)\n",
    "\n",
    "ss = StandardScaler()\n",
    "X_train = ss.fit_transform(X_train)\n",
    "X_test = ss.transform(X_test)\n",
    "\n",
    "train_samples, n_features = np.shape(X_train)\n",
    "test_samples = len(X_test)\n",
    "\n",
    "import tensorflow as tf\n",
    "\n",
    "# 读取神经网络结构（图）。\n",
    "saver = tf.train.import_meta_graph('models/section_3.2/my_final_model.ckpt.meta')\n",
    "\n",
    "with tf.Session() as sess:\n",
    "    # 加载所有相关参数。\n",
    "    saver.restore(sess, 'models/section_3.2/my_final_model.ckpt')\n",
    "    \n",
    "    # 重现分类准确率。\n",
    "    print '分类准确率为：%f' % accuracy.eval(feed_dict = {X: X_test, y: y_test})\n",
    "    "
   ]
  },
  {
   "cell_type": "code",
   "execution_count": null,
   "metadata": {
    "collapsed": true
   },
   "outputs": [],
   "source": []
  }
 ],
 "metadata": {
  "kernelspec": {
   "display_name": "Python 2",
   "language": "python",
   "name": "python2"
  },
  "language_info": {
   "codemirror_mode": {
    "name": "ipython",
    "version": 2
   },
   "file_extension": ".py",
   "mimetype": "text/x-python",
   "name": "python",
   "nbconvert_exporter": "python",
   "pygments_lexer": "ipython2",
   "version": "2.7.13"
  }
 },
 "nbformat": 4,
 "nbformat_minor": 2
}
